{
 "cells": [
  {
   "cell_type": "markdown",
   "metadata": {},
   "source": [
    "# CS519 Final Project\n",
    "```\n",
    "Authors:\n",
    "    Brandon White <bjwhite3@illinois.edu>\n",
    "    James Robertson\n",
    "```"
   ]
  },
  {
   "cell_type": "code",
   "execution_count": 33,
   "metadata": {},
   "outputs": [
    {
     "name": "stdout",
     "output_type": "stream",
     "text": [
      "\n",
      "Object statistics\n",
      "class                         cnt    on heap     size    total size    heap size\n",
      "================================================================================\n",
      "TList                         137        137      104         14248        14248\n",
      "TObjectTable                    1          1       32            32           32\n",
      "TROOT                           1          0      704           704            0\n",
      "TPluginManager                  1          1       40            40           40\n",
      "THashTable                      1          1       72            72           72\n",
      "THashList                       1          1      112           112          112\n",
      "TEnv                            1          1       56            56           56\n",
      "TEnvRec                       154        154       96         14784        14784\n",
      "TUnixSystem                     1          1      648           648          648\n",
      "TOrdCollection                  5          5       72           360          360\n",
      "--------------------------------------------------------------------------------\n",
      "Total:                        303        302     1936         31056        30352\n",
      "================================================================================\n",
      "\n"
     ]
    },
    {
     "data": {
      "image/png": "[encoded data removed]",
      "text/plain": [
       "<IPython.core.display.Image object>"
      ]
     },
     "metadata": {},
     "output_type": "display_data"
    }
   ],
   "source": [
    "# Well I guess first we should prove we can do anything at all.\n",
    "\n",
    "# We should REMOVE THIS BEFORE SUBMITTING!!!!!!!!!!!!!!!!!!!!!!!!!!!!!!!!!\n",
    "\n",
    "# Plotting the levels of care I give\n",
    "\n",
    "import ROOT\n",
    "from ROOT import TFormula, TF1, gROOT, gObjectTable\n",
    "\n",
    "cares_canvas = ROOT.TCanvas(\"caresOverTime\",\"Metaphorical cares as a Function of Time\", 800, 600)\n",
    "\n",
    "# Create a one dimensional function and draw it\n",
    "plot = TF1( 'cares_given', 'tan( sin(x)*7 + cos(x) * 11 )', -100, 100 )\n",
    "cares_canvas.SetGridx()\n",
    "cares_canvas.SetGridy()\n",
    "plot.Draw()\n",
    "cares_canvas.Update()\n",
    " \n",
    "# Print the list of objects known to ROOT\n",
    "if ( gObjectTable ):\n",
    "    gObjectTable.Print()\n",
    "\n",
    "cares_canvas.Draw()"
   ]
  },
  {
   "cell_type": "markdown",
   "metadata": {},
   "source": [
    "# Step 1 is to open up the file, and see what we have to work with.\n",
    "```\n",
    "SAM Dataset: prod_reco_R16-03-03-prod2reco.d_fd_numi_fhc_period1_v1_goodruns_prod2-snapshot\n",
    "Filename: fardet_r00014512_s51_t00_R16-03-03-prod2reco.d_v1_data.reco.root\n",
    "```"
   ]
  },
  {
   "cell_type": "code",
   "execution_count": 31,
   "metadata": {},
   "outputs": [
    {
     "name": "stdout",
     "output_type": "stream",
     "text": [
      "None\n",
      "Name: Events Title: \n",
      "TFile**\t\tfardet_r00014512_s51_t00_R16-03-03-prod2reco.d_v1_data.reco.root\t\n",
      " TFile*\t\tfardet_r00014512_s51_t00_R16-03-03-prod2reco.d_v1_data.reco.root\t\n",
      "  OBJ: TTree\tEvents\t : 0 at: 0x557e69b6add0\n",
      "  KEY: TTree\tEventHistory;2\t\n",
      "  KEY: TTree\tEventHistory;1\t\n",
      "  KEY: TTree\tMetaData;2\t\n",
      "  KEY: TTree\tMetaData;1\t\n",
      "  KEY: TTree\tFileIndex;2\t\n",
      "  KEY: TTree\tFileIndex;1\t\n",
      "  KEY: TTree\tParentage;2\t\n",
      "  KEY: TTree\tParentage;1\t\n",
      "  KEY: TTree\tEvents;2\t\n",
      "  KEY: TTree\tEvents;1\t\n",
      "  KEY: TTree\tEventMetaData;2\t\n",
      "  KEY: TTree\tEventMetaData;1\t\n",
      "  KEY: TTree\tSubRuns;2\t\n",
      "  KEY: TTree\tSubRuns;1\t\n",
      "  KEY: TTree\tSubRunMetaData;2\t\n",
      "  KEY: TTree\tSubRunMetaData;1\t\n",
      "  KEY: TTree\tRuns;2\t\n",
      "  KEY: TTree\tRuns;1\t\n",
      "  KEY: TTree\tRunMetaData;2\t\n",
      "  KEY: TTree\tRunMetaData;1\t\n",
      "  KEY: TTree\tResultsTree;2\t\n",
      "  KEY: TTree\tResultsTree;1\t\n",
      "  KEY: TTree\tResultsMetaData;2\t\n",
      "  KEY: TTree\tResultsMetaData;1\t\n",
      "  KEY: TKey\tRootFileDB;1\tsqlite3 database file\n"
     ]
    }
   ],
   "source": [
    "# ROOT Visualization Examples: https://root.cern.ch/doc/master/dir_a5bc9fd8c403f8cc582a0ace119a9c33.html\n",
    "\n",
    "dataset = 'prod_reco_R16-03-03-prod2reco.d_fd_numi_fhc_period1_v1_goodruns_prod2-snapshot'\n",
    "filename = 'fardet_r00014512_s51_t00_R16-03-03-prod2reco.d_v1_data.reco.root'\n",
    "\n",
    "f = ROOT.TFile.Open(filename, \"READ\")\n",
    "\n",
    "# The TTree class represents a columnar dataset: https://root.cern.ch/doc/master/classTTree.html\n",
    "ttree = f.Get('Events')\n",
    "\n",
    "print(f.ls())\n",
    "#dir(ttree)\n",
    "\n",
    "for thing in ttree:\n",
    "    type(thing)\n",
    "    print(thing)\n",
    "    dir(thing)\n",
    "    break\n",
    "    \n",
    "    \n",
    "# Talk to steven calvez\n",
    "# use hdf5 instead\n"
   ]
  },
  {
   "cell_type": "markdown",
   "metadata": {},
   "source": [
    "# Turns out .reco.root files are a bad way to store data for analysis due to the inherently sequential nature of the files. Also, the format of .reco.root files carries with it a depedency on the _art_ framewok.\n",
    "\n",
    "# Instead, use HDF5 files for analsyis that were generated from .reco.root files by the HDFMaker software (which I helped write)."
   ]
  },
  {
   "cell_type": "code",
   "execution_count": null,
   "metadata": {},
   "outputs": [],
   "source": []
  }
 ],
 "metadata": {
  "kernelspec": {
   "display_name": "Python 3",
   "language": "python",
   "name": "python3"
  },
  "language_info": {
   "codemirror_mode": {
    "name": "ipython",
    "version": 3
   },
   "file_extension": ".py",
   "mimetype": "text/x-python",
   "name": "python",
   "nbconvert_exporter": "python",
   "pygments_lexer": "ipython3",
   "version": "3.7.6"
  }
 },
 "nbformat": 4,
 "nbformat_minor": 4
}
